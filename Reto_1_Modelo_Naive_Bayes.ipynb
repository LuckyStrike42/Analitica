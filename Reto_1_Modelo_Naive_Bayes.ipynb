{
  "nbformat": 4,
  "nbformat_minor": 0,
  "metadata": {
    "colab": {
      "provenance": [],
      "collapsed_sections": [
        "eosJGMI1SykV",
        "rA52A0OKhblu"
      ],
      "authorship_tag": "ABX9TyNpVYtMUEaOqbTcjUC/7t7S",
      "include_colab_link": true
    },
    "kernelspec": {
      "name": "python3",
      "display_name": "Python 3"
    },
    "language_info": {
      "name": "python"
    }
  },
  "cells": [
    {
      "cell_type": "markdown",
      "metadata": {
        "id": "view-in-github",
        "colab_type": "text"
      },
      "source": [
        "<a href=\"https://colab.research.google.com/github/LuckyStrike42/Analitica/blob/main/Reto_1_Modelo_Naive_Bayes.ipynb\" target=\"_parent\"><img src=\"https://colab.research.google.com/assets/colab-badge.svg\" alt=\"Open In Colab\"/></a>"
      ]
    },
    {
      "cell_type": "markdown",
      "source": [
        "\n",
        "\n",
        "\n",
        "# **Reto 1 Naive Bayes**"
      ],
      "metadata": {
        "id": "eosJGMI1SykV"
      }
    },
    {
      "cell_type": "markdown",
      "source": [
        "0. Cargar las librerias de trabajo"
      ],
      "metadata": {
        "id": "9FgKil2jS_dV"
      }
    },
    {
      "cell_type": "code",
      "source": [],
      "metadata": {
        "id": "JOxsPMqYSk7G"
      },
      "execution_count": null,
      "outputs": []
    },
    {
      "cell_type": "code",
      "execution_count": null,
      "metadata": {
        "id": "VG5v-JpPSqe9"
      },
      "outputs": [],
      "source": [
        "import numpy as np #funciones mat\n",
        "import pandas as pd #comunicacion con excel\n",
        "from sklearn.naive_bayes import GaussianNB #libreria Naive Bayes\n",
        "from sklearn.metrics import confusion_matrix #matriz de confusion\n"
      ]
    },
    {
      "cell_type": "markdown",
      "source": [
        "1. Cargar la base de datos de excel."
      ],
      "metadata": {
        "id": "Me3f7nPpTbo7"
      }
    },
    {
      "cell_type": "code",
      "source": [
        "BD=\"/content/Longitudinal Survey.xlsx\"\n",
        "df=pd.read_excel(BD,sheet_name=0) #Traigo los datos\n",
        "df=df.dropna() #Elimino los valores nulos\n",
        "\n",
        "#seleccionamos las variables de interes\n",
        "df=df[['Age','Mother_Edu','Father_Edu','Height','Weight','Income','Self_Esteem','FamilySize','Urban']]\n",
        "\n",
        "#Datos de entrada\n",
        "dx=np.array(df[['Age','Mother_Edu','Father_Edu','Height','Weight','Income','Self_Esteem','FamilySize']])\n",
        "\n",
        "#Datos de salida - Valor deseado - Que quiero que aprenda el modelo\n",
        "dy=np.array(df['Urban'])\n"
      ],
      "metadata": {
        "id": "qbagpSn4TTTO"
      },
      "execution_count": null,
      "outputs": []
    },
    {
      "cell_type": "markdown",
      "source": [
        "# **Preguntas**\n"
      ],
      "metadata": {
        "id": "hrWcwUPgO2U5"
      }
    },
    {
      "cell_type": "markdown",
      "source": [
        "¿Cuál es el número de datos total de la base de datos?"
      ],
      "metadata": {
        "id": "bEM04JXzO8Mn"
      }
    },
    {
      "cell_type": "code",
      "source": [
        "DATA= len(df) #Tamaño de la base de datos\n",
        "print(\"Numero total de datos encontrados en el archivo:\", DATA)"
      ],
      "metadata": {
        "colab": {
          "base_uri": "https://localhost:8080/"
        },
        "id": "oh84wC8GPDBW",
        "outputId": "df340340-1114-42ec-9f6d-61928426752e"
      },
      "execution_count": null,
      "outputs": [
        {
          "output_type": "stream",
          "name": "stdout",
          "text": [
            "Numero total de datos encontrados en el archivo: 5683\n"
          ]
        }
      ]
    },
    {
      "cell_type": "markdown",
      "source": [
        "¿Cuál es el porcentaje de los datos que hacen parte de cada una de las categorías de clasificación?"
      ],
      "metadata": {
        "id": "PPpIuj8OPvyK"
      }
    },
    {
      "cell_type": "code",
      "source": [
        "#Personas que viven en la ciudad.\n",
        "filas=np.where(dy==1)[0]\n",
        "len(filas)\n",
        "print(\"Porcentaje de las personas que viven en la ciudad:\", len(filas)/len(df)*100,\"%\")\n",
        "\n",
        "#Personas que viven en areas rurales.\n",
        "filas=np.where(dy==0)[0]\n",
        "len(filas)\n",
        "print(\"Porcentaje de las personas que viven en las areas rurales:\", len(filas)/len(df)*100,\"%\")"
      ],
      "metadata": {
        "colab": {
          "base_uri": "https://localhost:8080/"
        },
        "id": "G1oBy-9qP4Mw",
        "outputId": "94a834a8-740d-42b7-bb4c-8110aa9dd4bb"
      },
      "execution_count": null,
      "outputs": [
        {
          "output_type": "stream",
          "name": "stdout",
          "text": [
            "Porcentaje de las personas que viven en la ciudad: 79.35949322540911 %\n",
            "Porcentaje de las personas que viven en las areas rurales: 20.640506774590886 %\n"
          ]
        }
      ]
    },
    {
      "cell_type": "markdown",
      "source": [
        "# **Modelo**"
      ],
      "metadata": {
        "id": "-mPHzai5QwaW"
      }
    },
    {
      "cell_type": "code",
      "source": [
        "nmb=GaussianNB() #Modelo de Naive Bayes\n",
        "nmb.fit(dx,dy) #Entreno el modelo\n",
        "ydp=nmb.predict(dx) #Predigo los datos de entrada - Pero que el obtuvo\n",
        "\n",
        "#digame las medias de las variables para cada categoria - PreApr/PreNeg\n",
        "u=nmb.theta_ #Se estiman las medias\n",
        "sigma=np.sqrt(nmb.var_) #Se estiman las varianzas\n",
        "\n",
        "#Las variaziones de las variables\n",
        "LI=u-sigma #Limite inferior\n",
        "LS=u+sigma #Limite superior\n",
        "\n",
        "print('La media de las variables por categoria:')\n",
        "print(u)\n",
        "print('Limite inferior:')\n",
        "print(LI)\n",
        "print('Limite superior:')\n",
        "print(LS)\n",
        "\n",
        "#Metrica de evaluacion - como se comporto el modelo indentificando PreApr/PreNeg\n",
        "cm=confusion_matrix(dy,ydp)\n",
        "print('Matriz de confusion:')\n",
        "print(cm)\n",
        "\n"
      ],
      "metadata": {
        "colab": {
          "base_uri": "https://localhost:8080/"
        },
        "id": "sGMxkllmYJuV",
        "outputId": "717f3e11-0422-4b7c-8775-79161bdd70e8",
        "collapsed": true
      },
      "execution_count": null,
      "outputs": [
        {
          "output_type": "stream",
          "name": "stdout",
          "text": [
            "La media de las variables por categoria:\n",
            "[[1.83810742e+01 1.07612958e+01 1.03324808e+01 6.72148338e+01\n",
            "  1.48857630e+02 3.03672506e+04 2.20272805e+01 4.74168798e+00]\n",
            " [1.83569845e+01 1.11769401e+01 1.12565410e+01 6.69031042e+01\n",
            "  1.44760976e+02 3.34278929e+04 2.26004435e+01 4.68780488e+00]]\n",
            "Limite inferior:\n",
            "[[ 1.58996876e+01  7.58892579e+00  6.46311334e+00  6.31369799e+01\n",
            "   1.18746964e+02 -1.33465823e+03  1.78344685e+01  2.16621834e+00]\n",
            " [ 1.58811112e+01  7.79013864e+00  7.15097738e+00  6.26897933e+01\n",
            "   1.14669654e+02 -2.69533531e+03  1.84154526e+01  2.24996381e+00]]\n",
            "Limite superior:\n",
            "[[2.08624608e+01 1.39336659e+01 1.42018483e+01 7.12926877e+01\n",
            "  1.78968296e+02 6.20691595e+04 2.62200925e+01 7.31715762e+00]\n",
            " [2.08328577e+01 1.45637416e+01 1.53621047e+01 7.11164151e+01\n",
            "  1.74852297e+02 6.95511211e+04 2.67854344e+01 7.12564594e+00]]\n",
            "Matriz de confusion:\n",
            "[[   2 1171]\n",
            " [   4 4506]]\n"
          ]
        }
      ]
    },
    {
      "cell_type": "markdown",
      "source": [
        "**Intervalos de las variables**\n",
        "\n",
        "* **Edad**\n",
        "1.   Rural: [15-20]\n",
        "2.   Urbana [15-20]\n",
        "\n",
        "* **Altura**  \n",
        "1. Rural: [63.1-71.2]\n",
        "2. Urbana: [62.2-71.1]\n",
        "\n",
        "* **Peso**  \n",
        "1.  Rural: [118.7-178.9]\n",
        "2.  Urbana: [114.6-174.8]\n"
      ],
      "metadata": {
        "id": "3PVx3wwfRMCM"
      }
    },
    {
      "cell_type": "markdown",
      "source": [
        "# **Evaluacion del modelo**\n",
        "\n",
        "\n"
      ],
      "metadata": {
        "id": "PRs9XnVVgPmC"
      }
    },
    {
      "cell_type": "markdown",
      "source": [
        "*   ¿Cuál es la exactitud alcanzada por el modelo?\n",
        "*   ¿Cuál es la tasa de error alcanzada por el modelo?\n",
        "*   ¿Cuál es la Sensibilidad alcanzada por el modelo?\n",
        "*   ¿Cuál es la Especificidad alcanzada por el modelo?\n",
        "\n"
      ],
      "metadata": {
        "id": "vjE9hItNS3Lv"
      }
    },
    {
      "cell_type": "code",
      "source": [
        "from os import pread\n",
        "VN=cm[0,0] #Verdaderos Negativos\n",
        "FP=cm[0,1] #Falsos Positivos\n",
        "FN=cm[1,0] #Falsos Negativos\n",
        "VP=cm[1,1] #Verdaderos Positivos\n",
        "\n",
        "exactitud=(VP+VN)/(VP+VN+FP+FN) #Comportamiento general\n",
        "tasa_error=(FP+FN)/(VP+VN+FP+FN) #Porcentaje de equivocaciones\n",
        "sensibilidad=VP/(VP+FP) #Como se comporto frente a los positivos\n",
        "especificidad=VN/(VN+FN) #Como se comporto frente alos negativos\n",
        "precission=VP/(VP+FN) #Precicion para clasificar positivos.\n",
        "PredNeg=VN/(VN+FP) #Precicion para clasificar negativos.\n",
        "\n",
        "print('Exactitud:')\n",
        "print(exactitud)\n",
        "print('Tasa de error:')\n",
        "print(tasa_error)\n",
        "print('Sensibilidad:')\n",
        "print(sensibilidad)\n",
        "print('Especificidad:')\n",
        "print(especificidad)\n",
        "print('Precission:')\n",
        "print(precission)\n",
        "print('PredNeg:')\n",
        "print(PredNeg)"
      ],
      "metadata": {
        "colab": {
          "base_uri": "https://localhost:8080/"
        },
        "id": "gBVQoSybgUdu",
        "outputId": "c97367a3-f47c-4168-c725-3a4f86715451"
      },
      "execution_count": null,
      "outputs": [
        {
          "output_type": "stream",
          "name": "stdout",
          "text": [
            "Exactitud:\n",
            "0.7932430054548654\n",
            "Tasa de error:\n",
            "0.2067569945451346\n",
            "Sensibilidad:\n",
            "0.793729082261758\n",
            "Especificidad:\n",
            "0.3333333333333333\n",
            "Precission:\n",
            "0.9991130820399113\n",
            "PredNeg:\n",
            "0.0017050298380221654\n"
          ]
        }
      ]
    },
    {
      "cell_type": "markdown",
      "source": [
        "**De acuerdo con los resultados del codigo de la evaluacion del modelo:**\n",
        "\n",
        "Exactitud del modelo: 79%\n",
        "\n",
        "Tasa de error del modelo 20%\n",
        "\n",
        "Sensibilidad del modelo: 79%\n",
        "\n",
        "Especificidad del modelo: 33%\n",
        "\n",
        "Precisión del modelo: 99%\n",
        "\n",
        "Valor de prediccion de Negativos del modelo: 0.17%\n",
        "\n",
        "\n"
      ],
      "metadata": {
        "id": "xnGtYC8eWvk4"
      }
    },
    {
      "cell_type": "markdown",
      "source": [
        "Caso de un individuo\n"
      ],
      "metadata": {
        "id": "Taxom9SfgnL5"
      }
    },
    {
      "cell_type": "code",
      "source": [
        "Xun=np.array([[34,9,6,65,135,50000,30,3]]) #Persona del Excel.\n",
        "yp=nmb.predict(Xun)\n",
        "\n",
        "if yp==1:\n",
        "  print(\"La persona vive en la ciudad\")\n",
        "else:\n",
        "  print(\"La persona vive en las areas rurales\")\n"
      ],
      "metadata": {
        "colab": {
          "base_uri": "https://localhost:8080/"
        },
        "id": "HnRCL1FjgpsQ",
        "outputId": "3688e38a-cc2e-423e-c21a-9c40404bf936"
      },
      "execution_count": null,
      "outputs": [
        {
          "output_type": "stream",
          "name": "stdout",
          "text": [
            "La persona vive en la ciudad\n"
          ]
        }
      ]
    },
    {
      "cell_type": "markdown",
      "source": [
        "# **Analisis de resultados**\n",
        "\n"
      ],
      "metadata": {
        "id": "rA52A0OKhblu"
      }
    },
    {
      "cell_type": "markdown",
      "source": [
        "El modelo Naive Bayes aplicado a los datos de la encuesta logró una\n",
        "exactitud del 79.32%, lo que significa que pudo predecir correctamente la mayoría de los casos. Aun así, hubo un 20.68% de errores, especialmente en clasificaciones incorrectas de personas que viven en áreas rurales como urbanas. Aunque el modelo fue bastante bueno para identificar a quienes residen en la ciudad, con una sensibilidad del 79.37%, su capacidad para reconocer correctamente a quienes viven en áreas rurales fue bastante limitada, con una especificidad de solo el 33.33%. Esto indica una tendencia del modelo a etiquetar erróneamente a los residentes rurales como urbanos.\n",
        "\n",
        "A pesar de estos desafíos, la precisión del modelo en clasificar correctamente a las personas como residentes urbanos fue muy alta, alcanzando un 99.91%. No obstante, cuando se trató de predecir la residencia en áreas rurales, el modelo tuvo fallos considerables, con un valor de predicción negativa de apenas 0.17%. En resumen, aunque el modelo tiene un buen rendimiento al identificar a los residentes urbanos, encuentra dificultades significativas para clasificar adecuadamente a los residentes rurales. Esto podría deberse a una desproporción en los datos o a una selección de características que no es capaz de diferenciar entre urbano y rural."
      ],
      "metadata": {
        "id": "VjA84rg7Y3p4"
      }
    }
  ]
}