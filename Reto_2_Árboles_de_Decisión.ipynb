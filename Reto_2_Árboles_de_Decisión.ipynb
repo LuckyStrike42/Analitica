{
  "cells": [
    {
      "cell_type": "markdown",
      "metadata": {
        "id": "view-in-github",
        "colab_type": "text"
      },
      "source": [
        "<a href=\"https://colab.research.google.com/github/LuckyStrike42/Analitica/blob/main/Reto_2_%C3%81rboles_de_Decisi%C3%B3n.ipynb\" target=\"_parent\"><img src=\"https://colab.research.google.com/assets/colab-badge.svg\" alt=\"Open In Colab\"/></a>"
      ]
    },
    {
      "cell_type": "markdown",
      "metadata": {
        "id": "ER2hcQe-0pJE"
      },
      "source": [
        "# **Árbol de desición Reto 2**\n",
        "\n",
        "De acuerdo con el enunciado del Ejercicio 36 (Travel_Plan) de la Sección de Ejercicios 13.4 del Libro Guía Analítica de Negocios – Comunicación con Datos (Jaggia – Mc Graw Hill), Construir un modelo que permita predecir si un cliente utilizará la tarjeta de crédito para el pago de los gastos de viaje y de los alimentos"
      ]
    },
    {
      "cell_type": "markdown",
      "metadata": {
        "id": "35FX4eyhyeig"
      },
      "source": [
        "# Librerias y Datos\n"
      ]
    },
    {
      "cell_type": "markdown",
      "metadata": {
        "id": "0n2sEp2U62Xh"
      },
      "source": [
        "0. Cargar las librerias necesarias para la ejecución del modelo."
      ]
    },
    {
      "cell_type": "code",
      "execution_count": null,
      "metadata": {
        "colab": {
          "base_uri": "https://localhost:8080/"
        },
        "id": "iGdicNf9yKfW",
        "outputId": "1c2fc177-5d3a-4a95-8767-729356fcfa3e"
      },
      "outputs": [
        {
          "output_type": "stream",
          "name": "stdout",
          "text": [
            "Drive already mounted at /content/drive; to attempt to forcibly remount, call drive.mount(\"/content/drive\", force_remount=True).\n"
          ]
        }
      ],
      "source": [
        "import pandas as pd\n",
        "import numpy as np\n",
        "import matplotlib.pyplot as plt # Graficador\n",
        "from sklearn.tree import DecisionTreeClassifier # Arbol de desicion.\n",
        "from sklearn.model_selection import train_test_split\n",
        "from sklearn.metrics import accuracy_score, confusion_matrix, classification_report\n",
        "import seaborn as sns\n",
        "\n",
        "# Para no tener que cargar el archivo\n",
        "from google.colab import drive\n",
        "drive.mount('/content/drive')"
      ]
    },
    {
      "cell_type": "markdown",
      "metadata": {
        "id": "0q8w5jo-ywzh"
      },
      "source": [
        "1. Carga de los datos"
      ]
    },
    {
      "cell_type": "code",
      "execution_count": null,
      "metadata": {
        "id": "slpM1ZOfy3Vt"
      },
      "outputs": [],
      "source": [
        "nxl = '/content/drive/MyDrive/Analisis de negocios int/2. BD1_Travel_Data_int.xlsx'\n",
        "df = pd.read_excel(nxl,sheet_name=0)\n",
        "df = df.dropna()\n",
        "df.head(100)\n",
        "\n",
        "# Convertir la data de las columnas CedirCard & College en 1 y 0, Yes = 1 & No = 0\n",
        "df['College'] = df['College'].map({'Yes':1,'No':0})\n",
        "df['CreditCard'] = df['CreditCard'].map({'Yes':1,'No':0})\n",
        "#Seleccion de las variables\n",
        "\n",
        "dfx = np.array (df[['College','FoodSpend','Income','TravelSpend']]) #np.array = convertir el texto en numeros.\n",
        "dfy = np.array(df['CreditCard'])\n"
      ]
    },
    {
      "cell_type": "markdown",
      "metadata": {
        "id": "wWYrkZKGzlnt"
      },
      "source": [
        "# Creacion del modelo."
      ]
    },
    {
      "cell_type": "markdown",
      "metadata": {
        "id": "WeJUk2Cb67sY"
      },
      "source": [
        "2. árbol de desición."
      ]
    },
    {
      "cell_type": "code",
      "execution_count": null,
      "metadata": {
        "colab": {
          "base_uri": "https://localhost:8080/"
        },
        "id": "e3slI2fUzvW3",
        "outputId": "0e9c0cb6-80cb-4b6a-bbf8-0cdd7eeaa5a9"
      },
      "outputs": [
        {
          "output_type": "stream",
          "name": "stdout",
          "text": [
            "[[334   9]\n",
            " [ 42 115]]\n",
            "Exactitud:\n",
            "0.898\n",
            "Sensibilidad:\n",
            "0.732484076433121\n",
            "Especificidad:\n",
            "0.9737609329446064\n"
          ]
        }
      ],
      "source": [
        "mar=DecisionTreeClassifier(criterion='gini',max_depth=4) # 4 variables de entrada (4 NIVELES)\n",
        "mar.fit(dfx,dfy)\n",
        "dfy_pred=mar.predict(dfx)\n",
        "\n",
        "from sklearn.metrics import confusion_matrix\n",
        "cm = confusion_matrix(dfy,dfy_pred)\n",
        "print(cm)\n",
        "\n",
        "#    0   1\n",
        "# 0  VN  FP\n",
        "# 1  FN  VP\n",
        "\n",
        "VN = cm[0,0]\n",
        "FP = cm[0,1]\n",
        "FN = cm[1,0]\n",
        "VP = cm[1,1]\n",
        "\n",
        "exactitud=(VP+VN)/(VP+VN+FP+FN) #Comportamiento general\n",
        "sensibilidad=VP/(VP+FN) #Como se comporto frente a los positivos\n",
        "especificidad=VN/(VN+FP) #Como se comporto frente alos negativos\n",
        "\n",
        "\n",
        "print('Exactitud:')\n",
        "print(exactitud)\n",
        "print('Sensibilidad:')\n",
        "print(sensibilidad)\n",
        "print('Especificidad:')\n",
        "print(especificidad)"
      ]
    },
    {
      "cell_type": "markdown",
      "metadata": {
        "id": "Pjndvcrm1COK"
      },
      "source": []
    },
    {
      "cell_type": "markdown",
      "metadata": {
        "id": "xbq5YjlC2QdH"
      },
      "source": [
        "# Árbol de desición."
      ]
    },
    {
      "cell_type": "markdown",
      "metadata": {
        "id": "uNr3oQfs7XMk"
      },
      "source": [
        "3. Árbol PNG"
      ]
    },
    {
      "cell_type": "code",
      "execution_count": null,
      "metadata": {
        "colab": {
          "base_uri": "https://localhost:8080/"
        },
        "id": "x0grxu7y2VFe",
        "outputId": "b4afbc66-3938-4f15-da1d-b17aa4a2dbf7"
      },
      "outputs": [
        {
          "output_type": "execute_result",
          "data": {
            "text/plain": [
              "True"
            ]
          },
          "metadata": {},
          "execution_count": 7
        }
      ],
      "source": [
        "#Librerias para graficar arbol\n",
        "from sklearn.tree import export_graphviz\n",
        "from pydotplus import graph_from_dot_data\n",
        "\n",
        "vs=['College','FoodSpend','Income','TravelSpend'] #Variables de entrada o Titulos para el arbol\n",
        "dot_graph=export_graphviz(mar,feature_names=vs)\n",
        "graph=graph_from_dot_data(dot_graph)\n",
        "graph.write_png('arbol.png')\n"
      ]
    },
    {
      "cell_type": "markdown",
      "metadata": {
        "id": "Zk7wJlY9265n"
      },
      "source": [
        "# Nuevos clientes"
      ]
    },
    {
      "cell_type": "markdown",
      "metadata": {
        "id": "u_8C71CG7NqP"
      },
      "source": [
        "4. Pronosticos de los nuevos clientes"
      ]
    },
    {
      "cell_type": "code",
      "execution_count": null,
      "metadata": {
        "colab": {
          "base_uri": "https://localhost:8080/"
        },
        "id": "0dWI00Ji2_bM",
        "outputId": "45e84375-6a59-46a7-a8b6-c2b1a522bba8"
      },
      "outputs": [
        {
          "output_type": "stream",
          "name": "stdout",
          "text": [
            "[[1.         0.        ]\n",
            " [0.78676471 0.21323529]]\n",
            "La probabilidad de que el primer cliente use su trajeta de credito para pagar sus gastos de viaje y de los alimentos en sus planes de viajar el proximo ańo es: 0.0 %\n",
            "La probabilidad de que el segundo cliente use su trajeta de credito para pagar sus gastos de viaje y de los alimentos en sus planes de viajar el proximo ańo es: 21.323529411764707 %\n"
          ]
        }
      ],
      "source": [
        "df2 = pd.read_excel(nxl,sheet_name=1)\n",
        "df2 = df2.dropna()\n",
        "df2.head(100)\n",
        "\n",
        "#Convertir la data de la columna College en 1 y 0, Yes = 1 & No = 0\n",
        "df2['College'] = df2['College'].map({'Yes':1,'No':0})\n",
        "df2.head(100)\n",
        "\n",
        "df2x=np.array(df2[['College','FoodSpend','Income','TravelSpend']]) #np.array = convertir el texto en numeros.\n",
        "dfy2=mar.predict_proba(df2x)\n",
        "print(dfy2)\n",
        "\n",
        "#    0   1\n",
        "# 0  VN  FP\n",
        "# 1  FN  VP\n",
        "\n",
        "VN = dfy2[0,0]\n",
        "FP = dfy2[0,1]\n",
        "FN = dfy2[1,0]\n",
        "VP = dfy2[1,1]\n",
        "\n",
        "#De acuerdo con los nuevos clientes en la base de datos Travel_Plan_Score, Cuál es la probabilidad de que el primer cliente tenga planes de viajar el próximo año, y Cuá es la probabilidad para el segundo cliente.\n",
        "print('La probabilidad de que el primer cliente use su trajeta de credito para pagar sus gastos de viaje y de los alimentos en sus planes de viajar el proximo ańo es:',FP*100,'%')\n",
        "print('La probabilidad de que el segundo cliente use su trajeta de credito para pagar sus gastos de viaje y de los alimentos en sus planes de viajar el proximo ańo es:',VP*100,'%')\n",
        "\n",
        "\n",
        "\n",
        "\n"
      ]
    },
    {
      "cell_type": "markdown",
      "metadata": {
        "id": "YhuvF_Cd6Cel"
      },
      "source": [
        "# **Relgas del negocio y nodos puros**\n",
        "\n",
        "**Las reglas del negocio para los nuevos clientes:**\n",
        "\n",
        "Cliente #1: TravelSpend > 1567.875 AND Income > 59098.0.\n",
        "\n",
        "\n",
        "\n",
        "Cliente #2: Income <= 59098.0 AND FoodSpend > 2711.875 AND TravelSpend <= 3008.25.\n",
        "\n",
        "\n",
        "\n",
        "**Las condiciones de los nodos puros son:**\n",
        "\n",
        "1.⁠ ⁠Nodo [1,0] = TravelSpend <=1188.0 AND FoodSpend > 4972.55.\n",
        "\n",
        "2.⁠ ⁠Nodo [0,47] = TravelSpend <=1188.0 AND FoodSpend > 4990.73.\n",
        "\n",
        "3.⁠ ⁠Nodo [108,0] = TravelSpend > 1567.875 AND Income > 59098.0\n"
      ]
    },
    {
      "cell_type": "markdown",
      "metadata": {
        "id": "5L5sizxL7moE"
      },
      "source": [
        "# **Análisis de Resultados**\n",
        "\n",
        "El modelo tiene un rendimiento general sólido con una exactitud del 89.8%. Esto indica que clasifica correctamente la mayoría de los casos. Sin embargo, al desglosar el rendimiento, la sensibilidad (73.2%) muestra que el modelo tiene un rendimiento moderado para identificar correctamente a aquellos que poseen una tarjeta de crédito. Por otro lado, la especificidad es alta (97.4%), lo que significa que es muy preciso para identificar correctamente a aquellos que no poseen una tarjeta de crédito. Esto sugiere que el modelo tiende a ser más conservador en su clasificación, evitando falsos positivos.\n",
        "\n",
        "En cuanto a los nuevos clientes, predice que el primer cliente tiene una probabilidad del 0% de utilizar su tarjeta de crédito para gastos de viaje, mientras que el segundo cliente tiene una probabilidad del 21.32%. Esto indica una baja intención del primer cliente de realizar gastos de viaje, posiblemente debido a su perfil financiero o hábitos de gasto. En cambio, el segundo cliente, con una mayor probabilidad de usar su tarjeta de crédito, podría estar más dispuesto a incurrir en estos gastos, lo cual coincide con las reglas de negocio establecidas en el modelo, donde factores como un mayor ingreso y gasto en alimentos influyen positivamente en la probabilidad de uso de la tarjeta para viajes.\n"
      ]
    }
  ],
  "metadata": {
    "colab": {
      "collapsed_sections": [
        "35FX4eyhyeig",
        "wWYrkZKGzlnt",
        "xbq5YjlC2QdH",
        "Zk7wJlY9265n"
      ],
      "provenance": [],
      "authorship_tag": "ABX9TyPA6qMA9jb9UhaI1+3KPK6x",
      "include_colab_link": true
    },
    "kernelspec": {
      "display_name": "Python 3",
      "name": "python3"
    },
    "language_info": {
      "name": "python"
    }
  },
  "nbformat": 4,
  "nbformat_minor": 0
}